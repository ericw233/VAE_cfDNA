{
 "cells": [
  {
   "cell_type": "code",
   "execution_count": 2,
   "metadata": {},
   "outputs": [],
   "source": [
    "### reformat feature data of simulated R01B samples for R01B vs KAG9 classifier\n",
    "import pandas as pd\n",
    "import numpy as np"
   ]
  },
  {
   "cell_type": "code",
   "execution_count": 6,
   "metadata": {},
   "outputs": [
    {
     "name": "stdout",
     "output_type": "stream",
     "text": [
      "train                                    testing  training  validation\n",
      "Project                                                               \n",
      "20220901_Q008_KAG9_SOP_compare                25         0           0\n",
      "20220909_R007_Transport_condition_Test        70         0           0\n",
      "20221022_R007_Transport_condition_Test2      180         0           0\n",
      "202212_R007_Transport_condition_Test3        200         0           0\n",
      "CRC_HP_clinical_sample_test                  153         0           0\n",
      "J999_extract_library_parallel                 48         0           0\n",
      "JA1I                                          10         0           0\n",
      "JA1T                                          26         0           0\n",
      "JA3B                                          28         0           0\n",
      "JX20                                           3         0           0\n",
      "K799                                         411         0           0\n",
      "KA5Q                                         254         0           0\n",
      "KA7V                                         346         0           0\n",
      "KAG9                                           0      4941        3294\n",
      "KAL1                                         156         0           0\n",
      "KAS7                                         489         0           0\n",
      "KAS9                                           7         0           0\n",
      "KAT6                                         124         0           0\n",
      "KB01                                         112         0           0\n",
      "KB1C                                           4         0           0\n",
      "KB2Y                                         167         0           0\n",
      "KB3J                                          40         0           0\n",
      "KB3V                                           2         0           0\n",
      "KB48                                          71         0           0\n",
      "KB4Q                                         267         0           0\n",
      "KB53                                          25         0           0\n",
      "KB6A                                         231         0           0\n",
      "KB8Y                                         428         0           0\n",
      "KBA5                                         344         0           0\n",
      "KBA6                                          94         0           0\n",
      "KBAR                                         293         0           0\n",
      "KBBV                                         151         0           0\n",
      "KBEK                                         616         0           0\n",
      "KBEX                                         177         0           0\n",
      "KBF3                                          45         0           0\n",
      "KBFL                                          67         0           0\n",
      "KBHB                                           3         0           0\n",
      "KBK4                                          49         0           0\n",
      "KBL1                                         142         0           0\n",
      "KBM3                                          38         0           0\n",
      "KBNU                                          29         0           0\n",
      "KM97(KY400)                                  112         0           0\n",
      "KY087                                         27         0           0\n",
      "KY256                                        126         0           0\n",
      "KZ28                                         207         0           0\n",
      "KZ29                                          26         0           0\n",
      "KZ30                                         294         0           0\n",
      "KZ35                                          40         0           0\n",
      "KZ37                                        1228         0           0\n",
      "KZ38                                         182         0           0\n",
      "KZ39                                          49         0           0\n",
      "KZ40                                          38         0           0\n",
      "KZ41                                         208         0           0\n",
      "KZ42                                          55         0           0\n",
      "KZ43                                          17         0           0\n",
      "KZ47                                          36         0           0\n",
      "KZ48                                          23         0           0\n",
      "KZ50                                         119         0           0\n",
      "KZ51                                          93         0           0\n",
      "KZ53                                          31         0           0\n",
      "KZ54                                          16         0           0\n",
      "KZ55                                          45         0           0\n",
      "KZ57                                         160         0           0\n",
      "KZ58                                          82         0           0\n",
      "KZ63                                         177         0           0\n",
      "KZ67                                           7         0           0\n",
      "KZ70                                          24         0           0\n",
      "L000                                           1         0           0\n",
      "Old_New_SOP_compare                          157         0           0\n",
      "Old_New_SOP_repeat                            36         0           0\n",
      "R007_Stable                                  107         0           0\n",
      "R007_diet_and_exercise                        20         0           0\n",
      "R007_save                                    240         0           0\n",
      "R007_tube_compare                            150         0           0\n",
      "R00P                                          43         0           0\n",
      "R01B                                           0       510          90\n",
      "R01BMatch                                      0       200           0\n",
      "YZ15_optimize                                 82         0           0\n",
      "train   training  validation\n",
      "Domain                      \n",
      "0            700          60\n",
      "1             10          30\n"
     ]
    }
   ],
   "source": [
    "### read in feature data\n",
    "feature_data = pd.read_pickle(\n",
    "    \"/mnt/binf/eric/Mercury_Dec2023/Feature_all_Mar2024_VAE_simu700.pkl\"\n",
    ")\n",
    "\n",
    "### modify the train/valid set\n",
    "feature_data.loc[(feature_data[\"R01B_label\"] == \"R01B_match\"), \"train\"] = \"training\"\n",
    "feature_data.loc[\n",
    "    (feature_data[\"Project\"] == \"KAG9\") & (feature_data[\"train\"] == \"training\"), \"train\"\n",
    "] = \"training\"\n",
    "feature_data.loc[\n",
    "    (feature_data[\"Project\"] == \"KAG9\") & (feature_data[\"train\"] != \"training\"), \"train\"\n",
    "] = \"validation\"\n",
    "feature_data.loc[\n",
    "    (feature_data[\"Project\"].str.contains(\"R01B\"))\n",
    "    & (feature_data[\"train\"] != \"training\"),\n",
    "    \"train\",\n",
    "] = \"validation\"\n",
    "feature_data.loc[\n",
    "    ~feature_data[\"Project\"].isin([\"R01B\", \"KAG9\", \"R01BMatch\"]), \"train\"\n",
    "] = \"testing\"\n",
    "\n",
    "feature_data[\"Domain\"] = 0\n",
    "feature_data.loc[feature_data[\"SampleID\"].str.contains(\"P201\"), \"Domain\"] = 1\n",
    "\n",
    "pd.set_option(\"display.max_rows\", None)\n",
    "# print(feature_data.loc[feature_data[\"R01B_label\"] == \"R01B_match\",\"SampleID\"])\n",
    "print(pd.crosstab(feature_data[\"Project\"], feature_data[\"train\"]))\n",
    "print(\n",
    "    pd.crosstab(\n",
    "        feature_data.loc[feature_data[\"Project\"].str.contains(\"R01B\"), \"Domain\"],\n",
    "        feature_data.loc[feature_data[\"Project\"].str.contains(\"R01B\"), \"train\"],\n",
    "    )\n",
    ")"
   ]
  },
  {
   "cell_type": "code",
   "execution_count": 18,
   "metadata": {},
   "outputs": [
    {
     "name": "stdout",
     "output_type": "stream",
     "text": [
      "(19218, 262)\n",
      "(19218, 518)\n"
     ]
    }
   ],
   "source": [
    "VAE_raw_columns = [col for col in feature_data.columns if \"VAE_raw\" in col]\n",
    "\n",
    "feature_data_norep = feature_data.drop(columns=VAE_raw_columns)\n",
    "print(feature_data_norep.shape)\n",
    "print(feature_data.shape)\n",
    "\n",
    "feature_data_norep.to_pickle(\n",
    "    \"/mnt/binf/eric/Mercury_Dec2023/Feature_all_Mar2024_VAE_simu700_norep_forR01BvsKAG9.pkl\"\n",
    ")"
   ]
  },
  {
   "cell_type": "code",
   "execution_count": null,
   "metadata": {},
   "outputs": [],
   "source": [
    "### export modified feature data\n",
    "\n",
    "feature_data.to_pickle(\n",
    "    \"/mnt/binf/eric/Mercury_Dec2023/Feature_all_Mar2024_VAE_simu700_forR01BvsKAG9.pkl\"\n",
    ")"
   ]
  }
 ],
 "metadata": {
  "kernelspec": {
   "display_name": "Py310",
   "language": "python",
   "name": "python3"
  },
  "language_info": {
   "codemirror_mode": {
    "name": "ipython",
    "version": 3
   },
   "file_extension": ".py",
   "mimetype": "text/x-python",
   "name": "python",
   "nbconvert_exporter": "python",
   "pygments_lexer": "ipython3",
   "version": "3.10.13"
  }
 },
 "nbformat": 4,
 "nbformat_minor": 2
}
